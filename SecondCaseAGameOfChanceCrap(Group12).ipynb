{
 "cells": [
  {
   "cell_type": "markdown",
   "id": "cecf0805",
   "metadata": {},
   "source": [
    "# Second Case Study : A Game of Chance - Crap"
   ]
  },
  {
   "cell_type": "code",
   "execution_count": 1,
   "id": "7323f980",
   "metadata": {},
   "outputs": [
    {
     "name": "stdout",
     "output_type": "stream",
     "text": [
      "First roll: 6\n",
      "Point is set to: 6\n",
      "Rolled: 9\n",
      "Rolled: 2\n",
      "Rolled: 11\n",
      "Rolled: 4\n",
      "Rolled: 11\n",
      "Rolled: 11\n",
      "Rolled: 9\n",
      "Rolled: 8\n",
      "Rolled: 5\n",
      "Rolled: 5\n",
      "Rolled: 6\n",
      "You made your point! You win!\n"
     ]
    }
   ],
   "source": [
    "import random\n",
    "\n",
    "def roll_dice():\n",
    "    \"\"\"Roll two six-sided dice and return their sum.\"\"\"\n",
    "    die1 = random.randint(1, 6)\n",
    "    die2 = random.randint(1, 6)\n",
    "    return die1 + die2\n",
    "\n",
    "def craps_game():\n",
    "    \"\"\"Play a game of Craps.\"\"\"\n",
    "    # Initial roll\n",
    "    first_roll = roll_dice()\n",
    "    print(f\"First roll: {first_roll}\")\n",
    "\n",
    "    if first_roll in (7, 11):\n",
    "        print(\"You win!\")\n",
    "    elif first_roll in (2, 3, 12):\n",
    "        print(\"Craps! You lose.\")\n",
    "    else:\n",
    "        point = first_roll\n",
    "        print(f\"Point is set to: {point}\")\n",
    "        \n",
    "        while True:\n",
    "            roll = roll_dice()\n",
    "            print(f\"Rolled: {roll}\")\n",
    "\n",
    "            if roll == point:\n",
    "                print(\"You made your point! You win!\")\n",
    "                break\n",
    "            elif roll == 7:\n",
    "                print(\"You rolled a 7. You lose.\")\n",
    "                break\n",
    "\n",
    "# Start the game\n",
    "craps_game()\n"
   ]
  },
  {
   "cell_type": "code",
   "execution_count": null,
   "id": "3fa08312",
   "metadata": {},
   "outputs": [],
   "source": []
  }
 ],
 "metadata": {
  "kernelspec": {
   "display_name": "Python 3 (ipykernel)",
   "language": "python",
   "name": "python3"
  },
  "language_info": {
   "codemirror_mode": {
    "name": "ipython",
    "version": 3
   },
   "file_extension": ".py",
   "mimetype": "text/x-python",
   "name": "python",
   "nbconvert_exporter": "python",
   "pygments_lexer": "ipython3",
   "version": "3.11.4"
  }
 },
 "nbformat": 4,
 "nbformat_minor": 5
}
