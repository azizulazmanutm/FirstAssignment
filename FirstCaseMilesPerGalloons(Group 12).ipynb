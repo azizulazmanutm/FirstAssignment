{
 "cells": [
  {
   "cell_type": "markdown",
   "id": "fe0467ab",
   "metadata": {},
   "source": [
    "# First Case: Miles Per Galloons"
   ]
  },
  {
   "cell_type": "code",
   "execution_count": 1,
   "id": "93bab0ea",
   "metadata": {},
   "outputs": [
    {
     "name": "stdout",
     "output_type": "stream",
     "text": [
      "Enter the gallons used (-1 to end): 12.8\n",
      "Enter the miles driven: 287\n",
      "The miles/gallon for this tank was 22.421875\n",
      "Enter the gallons used (-1 to end): 10.3\n",
      "Enter the miles driven: 200\n",
      "The miles/gallon for this tank was 19.417476\n",
      "Enter the gallons used (-1 to end): 5\n",
      "Enter the miles driven: 120\n",
      "The miles/gallon for this tank was 24.000000\n",
      "Enter the gallons used (-1 to end): -1\n",
      "\n",
      "The overall average miles/gallon was 21.601423\n"
     ]
    }
   ],
   "source": [
    "def main():\n",
    "    total_miles = 0.0\n",
    "    total_gallons = 0.0\n",
    "    tank_count = 0\n",
    "\n",
    "    while True:\n",
    "        gallons = float(input(\"Enter the gallons used (-1 to end): \"))\n",
    "        \n",
    "        if gallons < 0:\n",
    "            break\n",
    "        \n",
    "        miles = float(input(\"Enter the miles driven: \"))\n",
    "        \n",
    "        mpg = miles / gallons\n",
    "        total_miles += miles\n",
    "        total_gallons += gallons\n",
    "        tank_count += 1\n",
    "        \n",
    "        print(f\"The miles/gallon for this tank was {mpg:.6f}\")\n",
    "    \n",
    "    if tank_count > 0:\n",
    "        overall_mpg = total_miles / total_gallons\n",
    "        print(f\"\\nThe overall average miles/gallon was {overall_mpg:.6f}\")\n",
    "    else:\n",
    "        print(\"No valid tankfuls entered.\")\n",
    "\n",
    "if __name__ == \"__main__\":\n",
    "    main()\n"
   ]
  },
  {
   "cell_type": "code",
   "execution_count": null,
   "id": "6611f7bc",
   "metadata": {},
   "outputs": [],
   "source": []
  }
 ],
 "metadata": {
  "kernelspec": {
   "display_name": "Python 3 (ipykernel)",
   "language": "python",
   "name": "python3"
  },
  "language_info": {
   "codemirror_mode": {
    "name": "ipython",
    "version": 3
   },
   "file_extension": ".py",
   "mimetype": "text/x-python",
   "name": "python",
   "nbconvert_exporter": "python",
   "pygments_lexer": "ipython3",
   "version": "3.11.4"
  }
 },
 "nbformat": 4,
 "nbformat_minor": 5
}
