{
 "cells": [
  {
   "cell_type": "markdown",
   "id": "eaab38e7",
   "metadata": {},
   "source": [
    "# Third Case: COVID 19 Infection Statistic"
   ]
  },
  {
   "cell_type": "code",
   "execution_count": 3,
   "id": "25f73b90",
   "metadata": {},
   "outputs": [
    {
     "data": {
      "text/plain": [
       "[174,\n",
       " 335,\n",
       " 278,\n",
       " 214,\n",
       " 422,\n",
       " 513,\n",
       " 737,\n",
       " 672,\n",
       " 489,\n",
       " 412,\n",
       " 1301,\n",
       " 1105,\n",
       " 1123,\n",
       " 1376,\n",
       " 1502,\n",
       " 894,\n",
       " 665,\n",
       " 1704,\n",
       " 1656,\n",
       " 1342]"
      ]
     },
     "execution_count": 3,
     "metadata": {},
     "output_type": "execute_result"
    }
   ],
   "source": [
    "# infection_data = filtered_data['New_cases']\n",
    "infection_data = [174, 335, 278, 214, 422, 513, 737, 672, 489, 412, 1301,\n",
    "1105, 1123, 1376, 1502, 894, 665, 1704, 1656, 1342]\n",
    "infection_data"
   ]
  },
  {
   "cell_type": "code",
   "execution_count": 5,
   "id": "e5b888eb",
   "metadata": {},
   "outputs": [],
   "source": [
    "def minimum(data):\n",
    "    return min(data)\n",
    "\n",
    "def maximum(data):\n",
    "    return max(data)\n",
    "\n",
    "def range(min_val, max_val):\n",
    "    return max_val - min_val\n",
    "\n",
    "def mean(data):\n",
    "    return sum(data) / len(data)\n",
    "\n",
    "def median(data):\n",
    "    sorted_data = sorted(data)\n",
    "    mid = len(sorted_data) // 2\n",
    "    if len(sorted_data) % 2 == 0:\n",
    "        return (sorted_data[mid - 1] + sorted_data[mid]) / 2\n",
    "    else:\n",
    "        return sorted_data[mid]\n",
    "\n",
    "def variance(data, mean_val):\n",
    "    squared_diff_sum = sum((x - mean_val) ** 2 for x in data)\n",
    "    return squared_diff_sum / (len(data) - 1)\n",
    "\n",
    "def std_dev(variance_val):\n",
    "    return variance_val ** 0.5"
   ]
  },
  {
   "cell_type": "code",
   "execution_count": 6,
   "id": "8b4259ed",
   "metadata": {},
   "outputs": [
    {
     "name": "stdout",
     "output_type": "stream",
     "text": [
      "Minimum infections: 174\n",
      "Maximum infections: 1704\n",
      "Range of infections: 1530\n",
      "Mean infections: 845.70\n",
      "Median infections: 704.50\n",
      "Variance of infections: 253620.75\n",
      "Standard deviation of infections: 503.61\n"
     ]
    }
   ],
   "source": [
    "# Calculate statistics\n",
    "min_infections = minimum(infection_data)\n",
    "max_infections = maximum(infection_data)\n",
    "range_infections = range(min_infections, max_infections)\n",
    "mean_infections = mean(infection_data)\n",
    "median_infections = median(infection_data)\n",
    "variance_infections = variance(infection_data, mean_infections)\n",
    "std_dev_infections = std_dev(variance_infections)\n",
    "\n",
    "# Display the results\n",
    "print(f\"Minimum infections: {min_infections}\")\n",
    "print(f\"Maximum infections: {max_infections}\")\n",
    "print(f\"Range of infections: {range_infections}\")\n",
    "print(f\"Mean infections: {mean_infections:.2f}\")\n",
    "print(f\"Median infections: {median_infections:.2f}\")\n",
    "print(f\"Variance of infections: {variance_infections:.2f}\")\n",
    "print(f\"Standard deviation of infections: {std_dev_infections:.2f}\")"
   ]
  },
  {
   "cell_type": "code",
   "execution_count": null,
   "id": "b0ff4f19",
   "metadata": {},
   "outputs": [],
   "source": []
  }
 ],
 "metadata": {
  "kernelspec": {
   "display_name": "Python 3 (ipykernel)",
   "language": "python",
   "name": "python3"
  },
  "language_info": {
   "codemirror_mode": {
    "name": "ipython",
    "version": 3
   },
   "file_extension": ".py",
   "mimetype": "text/x-python",
   "name": "python",
   "nbconvert_exporter": "python",
   "pygments_lexer": "ipython3",
   "version": "3.11.4"
  }
 },
 "nbformat": 4,
 "nbformat_minor": 5
}
